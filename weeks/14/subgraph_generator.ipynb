{
 "cells": [
  {
   "cell_type": "code",
   "execution_count": 72,
   "metadata": {},
   "outputs": [],
   "source": [
    "import numpy as np\n",
    "import graphviz\n",
    "import networkx as nx\n",
    "\n",
    "import os\n",
    "\n",
    "import digraph\n",
    "\n",
    "import torch\n",
    "import torch.nn as nn\n",
    "import torch.nn.functional as F\n",
    "import torch.optim as optim"
   ]
  },
  {
   "cell_type": "markdown",
   "metadata": {},
   "source": [
    "## Subgraph Generation"
   ]
  },
  {
   "cell_type": "code",
   "execution_count": 68,
   "metadata": {},
   "outputs": [],
   "source": [
    "def get_subgraphs(graph, root='1-0-1', subcall = False):    \n",
    "    root = graph[root]\n",
    "    current_node = root\n",
    "    \n",
    "    joins = []\n",
    "    terminals = []\n",
    "    \n",
    "    # skip until joins/terminals\n",
    "    while len(current_node.get_children()) == 1:\n",
    "        current_node = current_node.get_children()[0]\n",
    "    \n",
    "    # if we hit a join, split and recursively call on each child\n",
    "    if len(current_node.get_children()) > 1:\n",
    "        for child in current_node.get_children():\n",
    "            c_joins, c_terms = get_subgraphs(graph, child.idx, True)\n",
    "            terminals += c_terms\n",
    "            joins += c_joins\n",
    "        joins += [(current_node.idx, terminals)]\n",
    "        \n",
    "    if len(current_node.get_children()) == 0:\n",
    "        terminals += [current_node.idx]\n",
    "    \n",
    "    if subcall:\n",
    "        return joins, terminals \n",
    "    else:\n",
    "        return joins"
   ]
  },
  {
   "cell_type": "markdown",
   "metadata": {},
   "source": [
    "## qep2vec"
   ]
  },
  {
   "cell_type": "code",
   "execution_count": 89,
   "metadata": {},
   "outputs": [],
   "source": [
    "def qep2vec(graph, degree = 0):\n",
    "    joins = graph.get_joins()\n",
    "\n",
    "    if degree > 0:\n",
    "        joins = np.array([join for join in joins if len(join[1]) <= degree], dtype=object)\n",
    "\n",
    "    # table names => integers\n",
    "    joins[:,0] = np.vectorize(int)(joins[:,0])\n",
    "\n",
    "    # create the costs column\n",
    "    joins = np.hstack([joins, np.zeros((len(joins), 1))])\n",
    "\n",
    "    # get the costs\n",
    "    for i in range(len(joins[:,0])):\n",
    "        joins[:,2][i] = np.vectorize(float)(graph.plan_details[joins[:,0][i]])\n",
    "\n",
    "    # table names => integers\n",
    "    joins[:,0] = np.vectorize(str)(joins[:,0])\n",
    "\n",
    "    # get the corresponding named types from the node labels\n",
    "    joins[:,0] = np.vectorize(graph.labels.get)(joins[:,0])\n",
    "\n",
    "    # load the canonical node types; match the labels to their canonical symbol\n",
    "    node_types = digraph.load_dict('node_types')\n",
    "    joins[:,0] = np.vectorize(node_types.get)(joins[:,0])\n",
    "\n",
    "    # load the canonical table names...\n",
    "    terminal_dict = digraph.load_dict('terminal_dict')\n",
    "    for i in range(len(joins[:,1])):\n",
    "        a = np.array(joins[:,1][i][0])\n",
    "        for j in range(len(joins[:,1][i])):\n",
    "            joins[:,1][i][j] = terminal_dict[digraph.canonical(joins[:,1][i][j])]\n",
    "\n",
    "    # using the lengths from the global dicts, and np.put, we create the table/type indicator vectors\n",
    "    # and combine them with the cost\n",
    "    type_ind = np.zeros((len(joins), len(node_types)))\n",
    "    table_ind = np.zeros((len(joins), len(terminal_dict)))\n",
    "\n",
    "    # turn the indices into indicator vectors\n",
    "    for i in range(len(joins)):\n",
    "        np.put(table_ind[i], joins[:,1][i],1)\n",
    "        np.put(type_ind[i], joins[:,0][i], 1)\n",
    "\n",
    "    # concat the axis along Nx7 ( 7 costs being measured )\n",
    "    costs = np.concatenate(joins[:,2], axis=0).reshape(len(joins),7)\n",
    "    return [len(node_types), len(terminal_dict), np.hstack((type_ind, table_ind, costs))]"
   ]
  },
  {
   "cell_type": "code",
   "execution_count": 90,
   "metadata": {},
   "outputs": [
    {
     "name": "stdout",
     "output_type": "stream",
     "text": [
      "<OVERLAP>\n",
      "<OVERLAP>\n",
      "<OVERLAP>\n",
      "<OVERLAP>\n",
      "<OVERLAP>\n",
      "<OVERLAP>\n",
      "<OVERLAP>\n",
      "<OVERLAP>\n",
      "<OVERLAP>\n",
      "<OVERLAP>\n",
      "<OVERLAP>\n",
      "<OVERLAP>\n",
      "<OVERLAP>\n",
      "<OVERLAP>\n",
      "<OVERLAP>\n",
      "<OVERLAP>\n",
      "<OVERLAP>\n",
      "<OVERLAP>\n",
      "<OVERLAP>\n",
      "<OVERLAP>\n"
     ]
    }
   ],
   "source": [
    "# get the subgraphs\n",
    "explain_plans = [f for f in os.listdir(digraph.fdir) if f[-len(\".sql.exfmt\"):] == \".sql.exfmt\"]\n",
    "\n",
    "n_operators = 0\n",
    "n_tables = 0\n",
    "\n",
    "graphs =  []\n",
    "subgraphs = []\n",
    "\n",
    "for i in range(len(explain_plans)):\n",
    "    try:\n",
    "        graph = digraph.digraph(explain_plans[i])\n",
    "        subgraph = qep2vec(graph)\n",
    "        \n",
    "        graphs.append(graph)\n",
    "        subgraphs.append(subgraph)\n",
    "        \n",
    "        n_operators = subgraph[0]\n",
    "        n_tables = subgraph[1]\n",
    "        \n",
    "    except (ValueError, IndexError) as error:\n",
    "        print('<OVERLAP>')\n",
    "        continue\n"
   ]
  },
  {
   "cell_type": "code",
   "execution_count": 104,
   "metadata": {},
   "outputs": [],
   "source": [
    "class Network(nn.Module):\n",
    "    def __init__(self, input_size, output_size):\n",
    "        super().__init__()\n",
    "        \n",
    "        #Hidden Layer\n",
    "        self.input_layer = nn.Linear(input_size, output_size)\n",
    "        \n",
    "        #Output Layer\n",
    "        self.output_layer = nn.Softmax(dim=1)\n",
    "        \n",
    "    def forward(self, x):\n",
    "        x = self.input_layer(x)\n",
    "        x = self.output_layer(x)\n",
    "        return x\n",
    "    \n",
    "    def loss(self, x, recon_x):\n",
    "        return F.binary_cross_entropy(x, recon_x)"
   ]
  },
  {
   "cell_type": "code",
   "execution_count": 92,
   "metadata": {},
   "outputs": [],
   "source": [
    "np.random.seed(0)\n",
    "\n",
    "# NN hyper parameters\n",
    "EPOCHS = 10\n",
    "GRAPH_LATENT_SIZE = 10\n",
    "LEARNING_RATE = 1e-3\n",
    "\n",
    "network = Network(GRAPH_LATENT_SIZE, len(graphs))\n",
    "optimizer = optim.Adam(network.parameters(), lr=LEARNING_RATE)\n",
    "\n",
    "# Initialize embeddings\n",
    "graph_embeddings = torch.Tensor(np.random.rand(len(graphs), GRAPH_LATENT_SIZE))\n",
    "\n",
    "\n",
    "for i in range(EPOCHS):\n",
    "    for j in range(len(graphs)):\n",
    "        for k in range(len(subgraphs[j])):\n",
    "            sg = 1"
   ]
  },
  {
   "cell_type": "code",
   "execution_count": 99,
   "metadata": {},
   "outputs": [],
   "source": [
    "a = np.array([1,2,3,4,5])"
   ]
  },
  {
   "cell_type": "code",
   "execution_count": 102,
   "metadata": {},
   "outputs": [],
   "source": [
    "a[a > 1] = 0"
   ]
  },
  {
   "cell_type": "code",
   "execution_count": 103,
   "metadata": {},
   "outputs": [
    {
     "data": {
      "text/plain": [
       "array([1, 0, 0, 0, 0])"
      ]
     },
     "execution_count": 103,
     "metadata": {},
     "output_type": "execute_result"
    }
   ],
   "source": [
    "a"
   ]
  },
  {
   "cell_type": "code",
   "execution_count": 118,
   "metadata": {},
   "outputs": [],
   "source": [
    "sg = np.array(subgraphs)\n",
    "sg = sg[:,2:]"
   ]
  },
  {
   "cell_type": "code",
   "execution_count": 129,
   "metadata": {},
   "outputs": [
    {
     "ename": "TypeError",
     "evalue": "unhashable type: 'numpy.ndarray'",
     "output_type": "error",
     "traceback": [
      "\u001b[1;31m---------------------------------------------------------------------------\u001b[0m",
      "\u001b[1;31mTypeError\u001b[0m                                 Traceback (most recent call last)",
      "\u001b[1;32m<ipython-input-129-eff5e27fd512>\u001b[0m in \u001b[0;36m<module>\u001b[1;34m\u001b[0m\n\u001b[0;32m      2\u001b[0m \u001b[1;32mfor\u001b[0m \u001b[0msg\u001b[0m \u001b[1;32min\u001b[0m \u001b[0msubgraphs\u001b[0m\u001b[1;33m[\u001b[0m\u001b[1;33m:\u001b[0m\u001b[1;36m2\u001b[0m\u001b[1;33m]\u001b[0m\u001b[1;33m:\u001b[0m\u001b[1;33m\u001b[0m\u001b[1;33m\u001b[0m\u001b[0m\n\u001b[0;32m      3\u001b[0m     \u001b[1;32mfor\u001b[0m \u001b[0ms\u001b[0m \u001b[1;32min\u001b[0m \u001b[0msg\u001b[0m\u001b[1;33m[\u001b[0m\u001b[1;36m2\u001b[0m\u001b[1;33m]\u001b[0m\u001b[1;33m:\u001b[0m\u001b[1;33m\u001b[0m\u001b[1;33m\u001b[0m\u001b[0m\n\u001b[1;32m----> 4\u001b[1;33m         \u001b[0msg_dict\u001b[0m\u001b[1;33m[\u001b[0m\u001b[0ms\u001b[0m\u001b[1;33m]\u001b[0m \u001b[1;33m=\u001b[0m \u001b[1;36m1\u001b[0m\u001b[1;33m\u001b[0m\u001b[1;33m\u001b[0m\u001b[0m\n\u001b[0m",
      "\u001b[1;31mTypeError\u001b[0m: unhashable type: 'numpy.ndarray'"
     ]
    }
   ],
   "source": [
    "sg_dict = {}\n",
    "for sg in subgraphs[:2]:\n",
    "    for s in sg[2]:\n",
    "        sg_dict[s] = 1\n"
   ]
  },
  {
   "cell_type": "code",
   "execution_count": 131,
   "metadata": {},
   "outputs": [
    {
     "ename": "TypeError",
     "evalue": "unhashable type: 'list'",
     "output_type": "error",
     "traceback": [
      "\u001b[1;31m---------------------------------------------------------------------------\u001b[0m",
      "\u001b[1;31mTypeError\u001b[0m                                 Traceback (most recent call last)",
      "\u001b[1;32m<ipython-input-131-3e464f90895c>\u001b[0m in \u001b[0;36m<module>\u001b[1;34m\u001b[0m\n\u001b[1;32m----> 1\u001b[1;33m \u001b[1;33m{\u001b[0m\u001b[0msg\u001b[0m\u001b[1;33m}\u001b[0m\u001b[1;33m\u001b[0m\u001b[1;33m\u001b[0m\u001b[0m\n\u001b[0m",
      "\u001b[1;31mTypeError\u001b[0m: unhashable type: 'list'"
     ]
    }
   ],
   "source": []
  },
  {
   "cell_type": "code",
   "execution_count": null,
   "metadata": {},
   "outputs": [],
   "source": []
  }
 ],
 "metadata": {
  "kernelspec": {
   "display_name": "Python 3",
   "language": "python",
   "name": "python3"
  },
  "language_info": {
   "codemirror_mode": {
    "name": "ipython",
    "version": 3
   },
   "file_extension": ".py",
   "mimetype": "text/x-python",
   "name": "python",
   "nbconvert_exporter": "python",
   "pygments_lexer": "ipython3",
   "version": "3.8.2"
  }
 },
 "nbformat": 4,
 "nbformat_minor": 5
}
