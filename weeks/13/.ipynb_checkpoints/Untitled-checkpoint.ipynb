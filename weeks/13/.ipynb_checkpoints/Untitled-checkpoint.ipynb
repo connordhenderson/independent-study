{
 "cells": [
  {
   "cell_type": "code",
   "execution_count": 61,
   "metadata": {},
   "outputs": [],
   "source": [
    "import numpy as np\n",
    "import re\n",
    "import os\n",
    "\n",
    "import graphviz"
   ]
  },
  {
   "cell_type": "code",
   "execution_count": 128,
   "metadata": {},
   "outputs": [],
   "source": [
    "fdir =  '../data/queries_explains_10g/queries1tb/'            # File Directory\n",
    "\n",
    "# Debug query files\n",
    "queries = [ 'query_00_73_34.sql.exfmt',                       # no unions:\n",
    "            'query_00_74_48.sql.exfmt',                       # \"\"\n",
    "            'query_00_75_30.sql.exfmt',                       # \"\"\n",
    "            'query_00_79_73.sql.exfmt',                       # \"\"\n",
    "            'query_00_80_84.sql.exfmt',                       # \"\"\n",
    "            'query_00_82_55.sql.exfmt',                       # \"\"\n",
    "            'query_00_85_26.sql.exfmt',                       # \"\"\n",
    "            'query_00_86_40.sql.exfmt',                       # \"\"\n",
    "            'query_00_87_72.sql.exfmt',                       # \"\"\n",
    "            'query_00_88_53.sql.exfmt',                       # \"\"\n",
    "            'query_00_89_79.sql.exfmt',                       # \"\"\n",
    "            'query_00_91_13.sql.exfmt',                       # \"\"\n",
    "            'query_00_92_24.sql.exfmt',                       # \"\"\n",
    "            'query_00_94_99.sql.exfmt',                       # \"\"\n",
    "            'query_00_95_68.sql.exfmt',                       # \"\"\n",
    "            'query_00_96_83.sql.exfmt',                       # \"\"\n",
    "            'query_00_97_61.sql.exfmt'                       # \"\"\n",
    "            #'query_00_34_70.sql.exfmt']                       # temp tables\n",
    "            #'query_00_99_76.sql.exfmt']                       # classic\n",
    "            #'query_00_34_70.sql.exfmt']                       # ambiguous child\n",
    "          ]\n",
    "\n",
    "# format queries\n",
    "queries = [fdir + query for query in queries]\n"
   ]
  },
  {
   "cell_type": "code",
   "execution_count": null,
   "metadata": {},
   "outputs": [],
   "source": [
    "for file in os.listdir(fdir):\n",
    "    if file[-5:] == \"exfmt\":\n",
    "        with open(fdir + file) as f:\n",
    "            lines = ''.join(f.readlines())\n",
    "            if re.search('UNION', lines) is None:\n",
    "                print(\"'\" + file + \"',                       # \\\"\\\"\")\n",
    "            "
   ]
  },
  {
   "cell_type": "code",
   "execution_count": 131,
   "metadata": {},
   "outputs": [
    {
     "name": "stdout",
     "output_type": "stream",
     "text": [
      "get AP for  ../data/queries_explains_10g/queries1tb/query_00_74_48.sql.exfmt\n",
      "\n",
      "   Rows \n",
      "   RETURN\n",
      "   (1)\n",
      "   Cost \n",
      "   I+O \n",
      "   +\n",
      "   1 \n",
      "   GRPBY \n",
      "   (2)\n",
      "   96.4489 \n",
      "   14 \n",
      "   +\n",
      "   0 \n",
      "   ^NLJOIN\n",
      "   (3)\n",
      "   96.4489 \n",
      "   14 \n",
      "   +-+-+\n",
      "   0   0.04 \n",
      "   ^NLJOIN   FETCH \n",
      "   (4)   (13)\n",
      "   82.6768   13.7721 \n",
      "   12   2 \n",
      "   +-+-+   +-+-+\n",
      "   0   0.000479923   1   73049 \n",
      "   ^NLJOIN   FETCH   IXSCAN   DP-TABLE:TPCDS10G\n",
      "   (5)   (11)   (14)   DATE_DIM\n",
      "   68.8931   13.7837   6.88642   Q7\n",
      "   10   2   1 \n",
      "   +-+-+   +-+-+   +\n",
      "   0   1.44e-07   1   1.9208e+06   73049 \n",
      "   ^NLJOIN   FETCH   IXSCAN   TABLE:TPCDS10G   INDEX:SYSIBM  \n",
      "   (6)   (9)   (12)   CUSTOMER_DEMOGRAPHICS  SQL200730035816610\n",
      "   55.0882   13.8049   6.89775   Q9   Q7\n",
      "   8   2   1 \n",
      "   +-+-+   +-+-+   +\n",
      "   0   1   1   250000   1.9208e+06 \n",
      "   TBSCAN   IXSCAN   IXSCAN   TABLE:TPCDS10G   INDEX:SYSIBM  \n",
      "   (7)   (8)   (10)   CUSTOMER_ADDRESS  SQL200730035816420\n",
      "   55.0853   0.00284616   6.91919   Q8   Q9\n",
      "   8   0   1 \n",
      "   +   +   +\n",
      "   0   102   250000 \n",
      " DP-TABLE:TPCDS10G   INDEX:SYSIBM   INDEX:SYSIBM  \n",
      "\n"
     ]
    }
   ],
   "source": [
    "class Node:\n",
    "    def __init__(self):\n",
    "        self.idx\n",
    "        self.children = []\n",
    "        self.features = []\n",
    "\n",
    "def get_access_plan(q):\n",
    "    # open the file\n",
    "    with open(q) as f:\n",
    "        lines = f.readlines()\n",
    "        \n",
    "    # prep the graph components\n",
    "    nodes = []\n",
    "    edges = []\n",
    "    \n",
    "    # trim to just the access plan component    \n",
    "    start_idx = -1\n",
    "    end_idx = -1\n",
    "\n",
    "    for i in range(len(lines)):              \n",
    "        if lines[i] == \"Access Plan:\\n\":\n",
    "            start_idx = i + 5 # skip some lines\n",
    "        if not end_idx > start_idx + 2 and start_idx > 0 and lines[i] == '\\n':\n",
    "            end_idx = i - 2\n",
    "    lines = lines[start_idx:end_idx]\n",
    "    \n",
    "    \n",
    "    \n",
    "    # simplify the tree\n",
    "    for i in range(len(lines)):     \n",
    "        # simplify parsing structure\n",
    "        lines[i] = re.sub('-+', '-', lines[i])               # simplify join/union notation\n",
    "        lines[i] = re.sub('[\\\\\\|\\/]', '+', lines[i])         # \"\" \n",
    "        lines[i] = re.sub(': ', \":\", lines[i])               # remove spaces from table\n",
    "        lines[i] = re.sub(' {3,}', '   ', lines[i])          # shorten extraneous spaces\n",
    "        lines[i] = re.sub('\\( *','(', lines[i])              # enclose index in parenthesis\n",
    "\n",
    "    return ''.join(lines)\n",
    "\n",
    "    \n",
    "    \n",
    "query = queries[1]\n",
    "print('get AP for ', query)\n",
    "access_plan = get_access_plan(query)\n",
    "print(access_plan)\n"
   ]
  },
  {
   "cell_type": "code",
   "execution_count": 100,
   "metadata": {},
   "outputs": [],
   "source": [
    "re.match(\"UNION\", \"None                                                             UNION \")\n"
   ]
  },
  {
   "cell_type": "code",
   "execution_count": 107,
   "metadata": {},
   "outputs": [],
   "source": [
    "if re.search(\"UNION\",\"STRESS \") is not None: print('gone')"
   ]
  },
  {
   "cell_type": "code",
   "execution_count": null,
   "metadata": {},
   "outputs": [],
   "source": []
  }
 ],
 "metadata": {
  "kernelspec": {
   "display_name": "Python 3",
   "language": "python",
   "name": "python3"
  },
  "language_info": {
   "codemirror_mode": {
    "name": "ipython",
    "version": 3
   },
   "file_extension": ".py",
   "mimetype": "text/x-python",
   "name": "python",
   "nbconvert_exporter": "python",
   "pygments_lexer": "ipython3",
   "version": "3.8.2"
  }
 },
 "nbformat": 4,
 "nbformat_minor": 4
}
